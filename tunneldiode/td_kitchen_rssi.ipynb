{
 "cells": [
  {
   "cell_type": "code",
   "execution_count": 1,
   "metadata": {},
   "outputs": [],
   "source": [
    "import sys\n",
    "import os\n",
    "import binascii\n",
    "import base64\n",
    "import numpy as np\n",
    "from difflib import SequenceMatcher\n",
    "import matplotlib.pyplot as plt\n",
    "import itertools\n",
    "import os.path\n",
    "from matplotlib.ticker import ScalarFormatter\n",
    "import matplotlib as mplab"
   ]
  },
  {
   "cell_type": "code",
   "execution_count": 2,
   "metadata": {},
   "outputs": [],
   "source": [
    "### andreas Desk, Wenqin office, Lorenzo lab\n",
    "rssi = [ [-74.08333333333333,-75.52,-77.10333333333334], [-83.70666666666666,-86.73,], [-104.84,-100.33, -104.01]]\n",
    "rssi_dev = [[1.5285250697613333,1.672204134269099,1.720268066965792],[1.5320864495480955,1.5907335833926852 ], [2.023462379190678, 1.3980104911385083,2.437874757515926]]\n",
    "ber = [[0.0759675141243,0.0551553672316,0.0200282485876],[ 0.050395480226,0.0454025423729], [0.0878177966102,0.0365183615819,0.0767937853107 ]]\n",
    "\n",
    "\n",
    "rssi_final = []\n",
    "rssi_dev_final = []\n",
    "ber_final = []\n",
    "ber_dev = []\n",
    "\n",
    "for x in rssi:\n",
    "\trssi_final.append( np.mean(x))\n",
    "for x in rssi_dev:\n",
    "\trssi_dev_final.append( np.mean(x))\n",
    "for x in ber:\n",
    "\tber_final.append( np.mean(x))\n",
    "\tber_dev.append(np.std(x))"
   ]
  },
  {
   "cell_type": "code",
   "execution_count": 9,
   "metadata": {},
   "outputs": [
    {
     "data": {
      "image/png": "[encoded data removed]",
      "text/plain": [
       "<Figure size 576x216 with 1 Axes>"
      ]
     },
     "metadata": {
      "needs_background": "light"
     },
     "output_type": "display_data"
    }
   ],
   "source": [
    "mplab.rc('xtick', labelsize=16) \n",
    "mplab.rc('ytick', labelsize=16) \n",
    "\n",
    "axis1 = [0,1,2]\n",
    "\n",
    "plt.figure(figsize=(8, 3))\n",
    "\n",
    "axes = plt.gca()\n",
    "\n",
    "#plt.ylim([0,1.3])\n",
    "\n",
    "\n",
    "plt.ylabel('RSSI [dBm]', fontsize=16)\n",
    "plt.xlabel('Receiver location', fontsize=16)\n",
    "\n",
    "indexlabels = [\"Same room\", \"One wall\", \"Three walls\"]\n",
    "\n",
    "plt.xticks( axis1, indexlabels)\n",
    "\n",
    "\n",
    "(_, caps, _) = plt.errorbar(axis1, rssi_final, yerr=(rssi_dev_final), color='#de2d26', marker='o', linestyle='-', markersize=12, linewidth=3, capsize = 7, label='Daylight desk')\n",
    "#plt.errorbar(axis1,ackrate_daylight_floor_result, yerr=(ackrate_daylight_floor_deviation) ,color='m', marker='.', linestyle='-.', markersize=12, linewidth=3, label='Daylight floor')\n",
    "for cap in caps:\n",
    "    cap.set_markeredgewidth(2)\n",
    "\n",
    "axes = plt.gca()\n",
    "\n",
    "#plt.legend(bbox_to_anchor=(0., 1.02, 1., .102), \n",
    " #          ncol=2, mode=\"expand\", borderaxespad=0. ,prop={'size':16})\n",
    "\n",
    "#plt.legend(loc='upper right', prop={'size':16})\n",
    "\n",
    "plt.subplots_adjust(left=0.15,bottom=0.21)\n",
    "plt.grid(True)\n",
    "plt.tight_layout()\n",
    "plt.savefig('td_kitchen_rssi.pdf')\n",
    "\n",
    "plt.show()\n",
    "\n",
    "\n",
    "#print ber_final"
   ]
  },
  {
   "cell_type": "code",
   "execution_count": null,
   "metadata": {},
   "outputs": [],
   "source": []
  }
 ],
 "metadata": {
  "kernelspec": {
   "display_name": "Python 3",
   "language": "python",
   "name": "python3"
  },
  "language_info": {
   "codemirror_mode": {
    "name": "ipython",
    "version": 3
   },
   "file_extension": ".py",
   "mimetype": "text/x-python",
   "name": "python",
   "nbconvert_exporter": "python",
   "pygments_lexer": "ipython3",
   "version": "3.7.1"
  }
 },
 "nbformat": 4,
 "nbformat_minor": 2
}
