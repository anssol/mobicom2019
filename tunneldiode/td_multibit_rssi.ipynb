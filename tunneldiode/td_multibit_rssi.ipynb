{
 "cells": [
  {
   "cell_type": "code",
   "execution_count": 1,
   "metadata": {},
   "outputs": [],
   "source": [
    "import sys\n",
    "import os\n",
    "import binascii\n",
    "import base64\n",
    "import numpy as np\n",
    "from difflib import SequenceMatcher\n",
    "import matplotlib.pyplot as plt\n",
    "import itertools\n",
    "import os.path\n",
    "from matplotlib.ticker import ScalarFormatter\n",
    "import matplotlib as mplab"
   ]
  },
  {
   "cell_type": "code",
   "execution_count": 2,
   "metadata": {},
   "outputs": [],
   "source": [
    "\n",
    "## Ground floor, First floor, Same Floor, Third Floor, Fourth Floor\n",
    "rssi = [  [-110.64333333333333,-105.27666666666667,-103.38333333333334], [-98.92333333333333,-99.96,-103.95666666666666],  [-97.57666666666667 ,-99.73,-98.92333333333333], [-107.17,-107.14666666666666,-107.17]]\n",
    "rssi_dev = [[2.445974016396922,1.9026618780598463,2.082399790839619], [0.7686279261703213,0.6916646586316234,0.9973910411112028], [0.5330311644005651,0.6711433031278292, 0.7686279261703213], [1.816892952267689,1.5465517198665624,1.5430813329180026]]\n",
    "ber = [[0.0251694915254,0.101793785311,0.00471751412429], [6.94444444444e-06,6.94444444444e-06,3.53107344633e-05],  [6.94444444444e-06,6.94444444444e-06,6.94444444444e-06], [0.0384957627119,0.0105720338983,0.0143714689266]]\n",
    "\n",
    "rssi_final = []\n",
    "rssi_dev_final = []\n",
    "ber_final = []\n",
    "ber_dev = []\n",
    "\n",
    "for x in rssi:\n",
    "\trssi_final.append( np.mean(x))\n",
    "for x in rssi_dev:\n",
    "\trssi_dev_final.append( np.mean(x))\n",
    "for x in ber:\n",
    "\tber_final.append( np.mean(x))\n",
    "\tber_dev.append(np.std(x))"
   ]
  },
  {
   "cell_type": "code",
   "execution_count": 17,
   "metadata": {},
   "outputs": [
    {
     "data": {
      "image/png": "[encoded data removed]",
      "text/plain": [
       "<Figure size 576x216 with 1 Axes>"
      ]
     },
     "metadata": {
      "needs_background": "light"
     },
     "output_type": "display_data"
    }
   ],
   "source": [
    "mplab.rc('xtick', labelsize=16) \n",
    "mplab.rc('ytick', labelsize=16) \n",
    "\n",
    "axis1 = [0,1,2,3]\n",
    "\n",
    "plt.figure(figsize=(8, 3))\n",
    "\n",
    "axes = plt.gca()\n",
    "\n",
    "#plt.ylim([0,1.3])\n",
    "\n",
    "\n",
    "plt.ylabel('RSSI [dBm]', fontsize=16)\n",
    "plt.xlabel('Receiver location', fontsize=16)\n",
    "\n",
    "indexlabels = [\"Ground floor\", \"First floor\", \"Third floor\", \"Fourth floor\"]\n",
    "\n",
    "plt.xticks( axis1, indexlabels, fontsize=15)\n",
    "\n",
    "\n",
    "(_, caps, _) = plt.errorbar(axis1, rssi_final, yerr=rssi_dev_final, color='#de2d26',marker='o', linestyle='-', markersize=12, capsize = 7, linewidth=2, label='Daylight desk')\n",
    "#plt.errorbar(axis1,ackrate_daylight_floor_result, yerr=(ackrate_daylight_floor_deviation) ,color='m', marker='.', linestyle='-.', markersize=12, linewidth=3, label='Daylight floor')\n",
    "for cap in caps:\n",
    "    cap.set_markeredgewidth(2)\n",
    "\n",
    "axes = plt.gca()\n",
    "\n",
    "#plt.legend(bbox_to_anchor=(0., 1.02, 1., .102), \n",
    " #          ncol=2, mode=\"expand\", borderaxespad=0. ,prop={'size':16})\n",
    "\n",
    "#plt.legend(loc='upper right', prop={'size':16})\n",
    "\n",
    "plt.subplots_adjust(left=0.15,bottom=0.21)\n",
    "plt.grid(True)\n",
    "\n",
    "plt.tight_layout()\n",
    "\n",
    "plt.savefig('td_rssi.pdf')\n",
    "plt.show()\n",
    "\n",
    "\n",
    "#print(ber_final)"
   ]
  },
  {
   "cell_type": "code",
   "execution_count": null,
   "metadata": {},
   "outputs": [],
   "source": []
  },
  {
   "cell_type": "code",
   "execution_count": null,
   "metadata": {},
   "outputs": [],
   "source": []
  }
 ],
 "metadata": {
  "kernelspec": {
   "display_name": "Python 3",
   "language": "python",
   "name": "python3"
  },
  "language_info": {
   "codemirror_mode": {
    "name": "ipython",
    "version": 3
   },
   "file_extension": ".py",
   "mimetype": "text/x-python",
   "name": "python",
   "nbconvert_exporter": "python",
   "pygments_lexer": "ipython3",
   "version": "3.7.1"
  }
 },
 "nbformat": 4,
 "nbformat_minor": 2
}
